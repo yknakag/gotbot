{
 "cells": [
  {
   "cell_type": "code",
   "execution_count": 1,
   "metadata": {
    "collapsed": true
   },
   "outputs": [],
   "source": [
    "import sys\n",
    "from os import listdir, path\n",
    "import MeCab\n",
    "import re\n",
    "from gensim import models\n",
    "from gensim.models.doc2vec import LabeledSentence\n",
    "from gensim.models.doc2vec import Doc2Vec\n",
    "from gensim.models.doc2vec import TaggedDocument"
   ]
  },
  {
   "cell_type": "code",
   "execution_count": null,
   "metadata": {
    "collapsed": true
   },
   "outputs": [],
   "source": [
    "#聖書よむ\n",
    "with open(\"bibletext.txt\", \"rU\") as f:\n",
    "    text = [v.rstrip() for v in f.readlines()]\n",
    "    \n",
    "#先頭が空欄だったので削除\n",
    "text.pop(0)\n",
    "\n",
    "#いらない先頭の数字を削除\n",
    "text_no_numbers=[]\n",
    "for i in range(0,len(text)):\n",
    "    text_no_number=re.sub(\"^\\d+.\\d+\\s\", \"\",text[i])\n",
    "    text_no_numbers.append(text_no_number)"
   ]
  },
  {
   "cell_type": "code",
   "execution_count": 23,
   "metadata": {},
   "outputs": [
    {
     "data": {
      "text/plain": [
       "'イエス・キリストの使徒ペトロから，ポントス，ガラテア，カッパドキア，アジア，ビティニアの離散のうちに仮住まいしている選ばれた人たち，'"
      ]
     },
     "execution_count": 23,
     "metadata": {},
     "output_type": "execute_result"
    }
   ],
   "source": [
    "text_no_numbers[0]"
   ]
  },
  {
   "cell_type": "code",
   "execution_count": null,
   "metadata": {
    "collapsed": true
   },
   "outputs": [],
   "source": [
    "#形態素解析。名詞、動詞とかだけ残して、単語をカンマで区切る処理。\n",
    "tagger = MeCab.Tagger('-Ochasen')\n",
    "tagger.parse('') # <= 空文字列をparseする\n",
    "tagger.parseToNode('')\n",
    "\n",
    "word_classes = [u'名詞',u'動詞',u'形容詞',u'形容動詞',u'副詞']#使いたい文字を指定\n",
    "keywords = []\n",
    "\n",
    "for i in range(0,len(text_no_numbers)):\n",
    "    keyword=[]\n",
    "    node = tagger.parseToNode(text_no_numbers[i])\n",
    "\n",
    "    while node:\n",
    "        if node.feature.split(\",\")[0] in word_classes:\n",
    "            keyword.append(node.surface)\n",
    "        node = node.next\n",
    "    keywords.append(keyword)"
   ]
  },
  {
   "cell_type": "code",
   "execution_count": null,
   "metadata": {
    "collapsed": true
   },
   "outputs": [],
   "source": [
    "#１文書ずつ、単語に分割してリストに入れていく[([単語1,単語2,単語3],文書id),...]こんなイメージ\n",
    "#words：文書に含まれる単語のリスト（単語の重複あり）\n",
    "#tags：文書の識別子（リストで指定．1つの文書に複数のタグを付与できる）\n",
    "trainings = [TaggedDocument(words =data, tags = [i]) for (i,data) in enumerate(keywords)]\n",
    "\n",
    "#トレーニング（パラメータ、これでいいのかな）\n",
    "m = Doc2Vec(documents= trainings, dm = 1, size=300, window=8, min_count=10, workers=4)\n",
    "\n",
    "#モデルのセーブ\n",
    "m.save(\"doc2vec.model\")\n"
   ]
  },
  {
   "cell_type": "code",
   "execution_count": 5,
   "metadata": {},
   "outputs": [
    {
     "data": {
      "text/plain": [
       "TaggedDocument(words=['イエス', 'キリスト', '使徒', 'ペ', 'トロ', 'ポントス', 'ガラテア', 'カッパドキア', 'アジア', 'ビティニア', '離散', 'うち', '仮住まい', 'し', 'いる', '選ば', 'れ', '人', 'たち'], tags=[0])"
      ]
     },
     "execution_count": 5,
     "metadata": {},
     "output_type": "execute_result"
    }
   ],
   "source": [
    "trainings[0]"
   ]
  },
  {
   "cell_type": "code",
   "execution_count": 10,
   "metadata": {
    "collapsed": true
   },
   "outputs": [],
   "source": [
    "# モデルのロード(モデルが用意してあれば、ここからで良い)\n",
    "m = Doc2Vec.load('doc2vec.model')"
   ]
  },
  {
   "cell_type": "code",
   "execution_count": 11,
   "metadata": {
    "collapsed": true
   },
   "outputs": [],
   "source": [
    "#質問文と一番近い聖書のテキストIDを出す。\n",
    "\n",
    "def search_similar_texts(question):\n",
    "    x = m.infer_vector(question)\n",
    "    most_similar_texts = m.docvecs.most_similar([x])\n",
    "    for similar_text in most_similar_texts:\n",
    "        return(similar_text[0])"
   ]
  },
  {
   "cell_type": "code",
   "execution_count": 12,
   "metadata": {},
   "outputs": [
    {
     "name": "stdout",
     "output_type": "stream",
     "text": [
      "31 ですから，信じるあなた方にとっては尊いものですが，不従順な者たちにとってはこのようです。 「建てる者たちが退けた石， それが隅の親石となった」，\n"
     ]
    }
   ],
   "source": [
    "question = [\"隣人愛\", \"とは\" ,\"何\" ]\n",
    "\n",
    "sim_id=search_similar_texts(question)\n",
    "print(sim_id,text_no_numbers[sim_id])"
   ]
  },
  {
   "cell_type": "code",
   "execution_count": 13,
   "metadata": {},
   "outputs": [
    {
     "name": "stdout",
     "output_type": "stream",
     "text": [
      "91 あなた方の中の長老たちに，仲間の長老であり，キリストの苦しみの証人であり，やがて現わされる栄光にあずかる者として，わたしは勧めます。\n"
     ]
    }
   ],
   "source": [
    "question = [\"愛\", \"とは\" ,\"何\" ]\n",
    "\n",
    "sim_id=search_similar_texts(question)\n",
    "print(sim_id,text_no_numbers[sim_id])"
   ]
  },
  {
   "cell_type": "code",
   "execution_count": 15,
   "metadata": {},
   "outputs": [
    {
     "name": "stdout",
     "output_type": "stream",
     "text": [
      "14 あなた方を召された方の聖なるさまに従って，あなた方も自分のすべての振る舞いにおいて聖なるものとなりなさい。\n"
     ]
    }
   ],
   "source": [
    "question = [\"将来\", \"心配\" ]\n",
    "\n",
    "sim_id=search_similar_texts(question)\n",
    "print(sim_id,text_no_numbers[sim_id])"
   ]
  },
  {
   "cell_type": "code",
   "execution_count": 21,
   "metadata": {},
   "outputs": [
    {
     "name": "stdout",
     "output_type": "stream",
     "text": [
      "72 それで，キリストは肉においてわたしたちのために苦しみを受けられたのですから，あなた方も同じ思いで武装しなさい。肉において苦しみを受けた人は，罪をやめているからです。\n"
     ]
    }
   ],
   "source": [
    "question = [\"お金\", \"ほしい\"]\n",
    "\n",
    "sim_id=search_similar_texts(question)\n",
    "print(sim_id,text_no_numbers[sim_id])"
   ]
  },
  {
   "cell_type": "code",
   "execution_count": 22,
   "metadata": {},
   "outputs": [
    {
     "name": "stdout",
     "output_type": "stream",
     "text": [
      "96 ですから，神の強力なみ手のもとで自分を低くしなさい。その方がやがてあなた方を高くしてくださるためです。\n"
     ]
    }
   ],
   "source": [
    "question = [\"上司\", \"嫌い\" ,\"腹立たしい\" ]\n",
    "\n",
    "sim_id=search_similar_texts(question)\n",
    "print(sim_id,text_no_numbers[sim_id])"
   ]
  },
  {
   "cell_type": "code",
   "execution_count": null,
   "metadata": {
    "collapsed": true
   },
   "outputs": [],
   "source": []
  },
  {
   "cell_type": "markdown",
   "metadata": {
    "collapsed": true
   },
   "source": [
    "以下よりツイッターの部"
   ]
  },
  {
   "cell_type": "code",
   "execution_count": 127,
   "metadata": {
    "collapsed": true
   },
   "outputs": [],
   "source": [
    "\n"
   ]
  },
  {
   "cell_type": "code",
   "execution_count": 130,
   "metadata": {
    "collapsed": true
   },
   "outputs": [],
   "source": [
    "import tweepy\n",
    "from requests_oauthlib import OAuth1Session\n",
    "import json\n",
    "\n",
    "CK = ''                             # Consumer Key\n",
    "CS = ''         # Consumer Secret\n",
    "auth = tweepy.OAuthHandler(CK, CS)\n",
    "AT = '' # Access Token\n",
    "AS = ''# Accesss Token Secert\n",
    "auth.set_access_token(AT, AS)\n",
    "\n",
    "api = tweepy.API(auth)\n"
   ]
  },
  {
   "cell_type": "code",
   "execution_count": 119,
   "metadata": {},
   "outputs": [
    {
     "name": "stdout",
     "output_type": "stream",
     "text": [
      "OK\n"
     ]
    }
   ],
   "source": [
    "# ツイート投稿用のURL\n",
    "url = \"https://api.twitter.com/1.1/statuses/update.json\"\n",
    "\n",
    "# ツイート本文\n",
    "params = {\"status\": \"テスト\"}\n",
    "\n",
    "# OAuth認証で POST method で投稿\n",
    "twitter = OAuth1Session(CK, CS, AT, AS)\n",
    "req = twitter.post(url, params = params)\n",
    "\n",
    "# レスポンスを確認\n",
    "if req.status_code == 200:\n",
    "    print (\"OK\")\n",
    "else:\n",
    "    print (\"Error: %d\" % req.status_code)"
   ]
  },
  {
   "cell_type": "code",
   "execution_count": null,
   "metadata": {
    "collapsed": true
   },
   "outputs": [],
   "source": [
    "#自動でつぶやく"
   ]
  },
  {
   "cell_type": "code",
   "execution_count": 134,
   "metadata": {},
   "outputs": [
    {
     "ename": "NameError",
     "evalue": "name 'status' is not defined",
     "output_type": "error",
     "traceback": [
      "\u001b[0;31m---------------------------------------------------------------------------\u001b[0m",
      "\u001b[0;31mNameError\u001b[0m                                 Traceback (most recent call last)",
      "\u001b[0;32m<ipython-input-134-2b4c678a92a9>\u001b[0m in \u001b[0;36m<module>\u001b[0;34m()\u001b[0m\n\u001b[1;32m      1\u001b[0m \u001b[0;31m#返信につぶやく\u001b[0m\u001b[0;34m\u001b[0m\u001b[0;34m\u001b[0m\u001b[0m\n\u001b[0;32m----> 2\u001b[0;31m \u001b[0;32mif\u001b[0m \u001b[0mstr\u001b[0m\u001b[0;34m(\u001b[0m\u001b[0mstatus\u001b[0m\u001b[0;34m.\u001b[0m\u001b[0min_reply_to_screen_name\u001b[0m\u001b[0;34m)\u001b[0m\u001b[0;34m==\u001b[0m\u001b[0;34m\"{Bot_TWITTER_ID}\"\u001b[0m\u001b[0;34m:\u001b[0m\u001b[0;34m\u001b[0m\u001b[0m\n\u001b[0m\u001b[1;32m      3\u001b[0m     \u001b[0mtweet\u001b[0m \u001b[0;34m=\u001b[0m \u001b[0;34m\"@\"\u001b[0m \u001b[0;34m+\u001b[0m \u001b[0mstr\u001b[0m\u001b[0;34m(\u001b[0m\u001b[0mstatus\u001b[0m\u001b[0;34m.\u001b[0m\u001b[0muser\u001b[0m\u001b[0;34m.\u001b[0m\u001b[0mscreen_name\u001b[0m\u001b[0;34m)\u001b[0m \u001b[0;34m+\u001b[0m \u001b[0;34m\"answer\"\u001b[0m\u001b[0;34m\u001b[0m\u001b[0m\n\u001b[1;32m      4\u001b[0m     \u001b[0mapi\u001b[0m\u001b[0;34m.\u001b[0m\u001b[0mupdate_status\u001b[0m\u001b[0;34m(\u001b[0m\u001b[0mstatus\u001b[0m\u001b[0;34m=\u001b[0m\u001b[0mtweet\u001b[0m\u001b[0;34m)\u001b[0m\u001b[0;34m\u001b[0m\u001b[0m\n",
      "\u001b[0;31mNameError\u001b[0m: name 'status' is not defined"
     ]
    }
   ],
   "source": [
    "#返信につぶやく\n",
    "#参考ページ：http://net.univ-q.com/archives/38\n",
    "\n",
    "if str(status.in_reply_to_screen_name)==\"{Bot_TWITTER_ID}\":\n",
    "    tweet = \"@\" + str(status.user.screen_name) + \"answer\" \n",
    "    api.update_status(status=tweet)\n"
   ]
  },
  {
   "cell_type": "markdown",
   "metadata": {},
   "source": [
    "timeline=api.mentions_timeline()\n",
    "for status in timeline:\n",
    "　　　status_id=status.id\n",
    "　　　screen_name=status.author.screen_name.encode(\"UTF-8\")\n",
    "　　　reply_text=\"@\"+screen_name+\" \"+\"リプライテキスト\"\n",
    "　　　api.update_status(status=reply_text,in_reply_to_status_id=status_id)"
   ]
  },
  {
   "cell_type": "code",
   "execution_count": null,
   "metadata": {
    "collapsed": true
   },
   "outputs": [],
   "source": []
  }
 ],
 "metadata": {
  "kernelspec": {
   "display_name": "Python 3",
   "language": "python",
   "name": "python3"
  },
  "language_info": {
   "codemirror_mode": {
    "name": "ipython",
    "version": 3
   },
   "file_extension": ".py",
   "mimetype": "text/x-python",
   "name": "python",
   "nbconvert_exporter": "python",
   "pygments_lexer": "ipython3",
   "version": "3.6.1"
  }
 },
 "nbformat": 4,
 "nbformat_minor": 1
}
